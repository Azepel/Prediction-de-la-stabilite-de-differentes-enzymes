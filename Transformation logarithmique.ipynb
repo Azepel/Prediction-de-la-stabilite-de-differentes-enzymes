{
 "cells": [
  {
   "cell_type": "markdown",
   "id": "bc58ed8c",
   "metadata": {},
   "source": [
    "# Préparation de notre jeu de données pour la modélisation "
   ]
  },
  {
   "cell_type": "code",
   "execution_count": null,
   "id": "9e4ec77a",
   "metadata": {},
   "outputs": [],
   "source": [
    "train_enz_num=train_enz.drop(axis=1, columns=['seq_id','protein_sequence','tm'])\n",
    "Cible=train_enz['tm']"
   ]
  },
  {
   "cell_type": "markdown",
   "id": "ab6b0b3d",
   "metadata": {},
   "source": [
    "## Standardisation de notre DF "
   ]
  },
  {
   "cell_type": "code",
   "execution_count": null,
   "id": "b8cf241a",
   "metadata": {},
   "outputs": [],
   "source": [
    "from sklearn.preprocessing import StandardScaler\n",
    "Scaler=StandardScaler()\n",
    "train_enz_num_std = pd.DataFrame(Scaler.fit_transform(train_enz_num), columns=train_enz_num.columns)"
   ]
  },
  {
   "cell_type": "markdown",
   "id": "93ab2015",
   "metadata": {},
   "source": [
    "## Observation de notre cible "
   ]
  },
  {
   "cell_type": "code",
   "execution_count": null,
   "id": "cb4235ee",
   "metadata": {},
   "outputs": [],
   "source": [
    "sns.distplot(Cible)"
   ]
  },
  {
   "cell_type": "code",
   "execution_count": null,
   "id": "98078ba0",
   "metadata": {},
   "outputs": [],
   "source": [
    "from scipy.stats import skew\n",
    "\n",
    "for i in range(0,10):\n",
    "    Cible_log=np.log(Cible+i)\n",
    "    asym=skew(Cible_log)\n",
    "    if abs(asym) <0.05 :\n",
    "        print(i,':',asym)"
   ]
  },
  {
   "cell_type": "code",
   "execution_count": null,
   "id": "517a43a4",
   "metadata": {},
   "outputs": [],
   "source": [
    "Cible_log=np.log(Cible+7)\n",
    "sns.distplot(Cible_log)"
   ]
  },
  {
   "cell_type": "markdown",
   "id": "ac568723",
   "metadata": {},
   "source": [
    "On voit ici, que les données sont plus centrées que précédemment, nous continuerons donc avec ce df comme cible."
   ]
  },
  {
   "cell_type": "markdown",
   "id": "ea7ef6dd",
   "metadata": {},
   "source": [
    "## Séparation de notre train set en train et test"
   ]
  },
  {
   "cell_type": "code",
   "execution_count": null,
   "id": "c3c8ef57",
   "metadata": {},
   "outputs": [],
   "source": [
    "from sklearn.model_selection import train_test_split\n",
    "xtrain_log, xtest_log, ytrain_log, ytest_log = train_test_split(train_enz_num_std, Cible_log, train_size=0.8, random_state = 21)\n",
    "xtrain, xtest, ytrain, ytest = train_test_split(train_enz_num_std, Cible, train_size=0.8, random_state = 21)"
   ]
  },
  {
   "cell_type": "markdown",
   "id": "a2f2cbfc",
   "metadata": {},
   "source": [
    "# Test d'un premier algorithme avec les paramètres par défaut"
   ]
  },
  {
   "cell_type": "markdown",
   "id": "f373a6f2",
   "metadata": {},
   "source": [
    "## Dummy Regressor"
   ]
  },
  {
   "cell_type": "markdown",
   "id": "24012e13",
   "metadata": {},
   "source": [
    "### Avec notre cible loguée"
   ]
  },
  {
   "cell_type": "code",
   "execution_count": null,
   "id": "237c4fb2",
   "metadata": {},
   "outputs": [],
   "source": [
    "from sklearn.metrics import r2_score\n",
    "from sklearn.metrics import mean_squared_error\n",
    "from sklearn.metrics import mean_absolute_error\n",
    "from math import sqrt\n",
    "from sklearn.dummy import DummyRegressor\n",
    "\n",
    "Dummy=DummyRegressor()\n",
    "modele=Dummy.fit(xtrain_log,ytrain_log)\n",
    "ypredict_log=modele.predict(xtest_log)\n",
    "\n",
    "# Description R carré\n",
    "print(\"R-squared:\", np.round(r2_score(ytest_log, ypredict_log),3))\n",
    "# mesure des erreurs entre des observations appariées exprimant le même phénomène\n",
    "print(\"MAE:\", np.round(mean_absolute_error(ytest_log, ypredict_log),3))\n",
    "# mesure caractérisant la « précision » de cet estimateur\n",
    "print(\"MSE:\", np.round(mean_squared_error(ytest_log, ypredict_log),3))\n",
    "# Mesure qui nous indique l'écart moyen entre les valeurs prédites et les valeurs observées dans un modèle\n",
    "print('RMSE:', np.round(sqrt(mean_squared_error(ytest_log, ypredict_log)),3))"
   ]
  },
  {
   "cell_type": "code",
   "execution_count": null,
   "id": "a48c79bd",
   "metadata": {},
   "outputs": [],
   "source": [
    "# Pour avoir une visualisation de l'ajustement du modèle et de la prédiction en fonction des valeurs de test\n",
    "sns.regplot(x=ypredict_log,y=ytest_log)\n",
    "# Pour avoir la ligne des données des valeurs de test à comparer\n",
    "plt.plot(ytest_log,ytest_log)\n",
    "plt.xlabel(\"Tm - Prediction (blue)\")\n",
    "plt.ylabel(\"Tm - Prediction (orange)\")\n",
    "plt.title('Tm - Prediction vs Test')"
   ]
  },
  {
   "cell_type": "code",
   "execution_count": null,
   "id": "5c1b8046",
   "metadata": {},
   "outputs": [],
   "source": [
    "# Graphique de répartition des résidus\n",
    "sns.residplot(x=ytest_log,y=ypredict_log)\n",
    "plt.xlabel(\"Tm\")\n",
    "plt.ylabel(\"Residus\")\n",
    "plt.title('Distribution des résidus selon la Tm')"
   ]
  },
  {
   "cell_type": "markdown",
   "id": "f3386966",
   "metadata": {},
   "source": [
    "### Avec notre cible non loguée"
   ]
  },
  {
   "cell_type": "code",
   "execution_count": null,
   "id": "3f1a2c22",
   "metadata": {},
   "outputs": [],
   "source": [
    "modele=Dummy.fit(xtrain,ytrain)\n",
    "ypredict=modele.predict(xtest)\n",
    "\n",
    "# Description R carré\n",
    "print(\"R-squared:\", np.round(r2_score(ytest, ypredict),3))\n",
    "# mesure des erreurs entre des observations appariées exprimant le même phénomène\n",
    "print(\"MAE:\", np.round(mean_absolute_error(ytest, ypredict),3))\n",
    "# mesure caractérisant la « précision » de cet estimateur\n",
    "print(\"MSE:\", np.round(mean_squared_error(ytest, ypredict),3))\n",
    "# Mesure qui nous indique l'écart moyen entre les valeurs prédites et les valeurs observées dans un modèle\n",
    "print('RMSE:', np.round(sqrt(mean_squared_error(ytest, ypredict)),3))"
   ]
  },
  {
   "cell_type": "code",
   "execution_count": null,
   "id": "a549677a",
   "metadata": {},
   "outputs": [],
   "source": [
    "# Pour avoir une visualisation de l'ajustement du modèle et de la prédiction en fonction des valeurs de test\n",
    "sns.regplot(x=ypredict,y=ytest)\n",
    "# Pour avoir la ligne des données des valeurs de test à comparer\n",
    "plt.plot(ytest,ytest)\n",
    "plt.xlabel(\"Tm - Prediction (blue)\")\n",
    "plt.ylabel(\"Tm - Prediction (orange)\")\n",
    "plt.title('Tm - Prediction vs Test')"
   ]
  },
  {
   "cell_type": "code",
   "execution_count": null,
   "id": "5f344c65",
   "metadata": {},
   "outputs": [],
   "source": [
    "# Graphique de répartition des résidus\n",
    "sns.residplot(x=ytest,y=ypredict)\n",
    "plt.xlabel(\"Tm\")\n",
    "plt.ylabel(\"Residus\")\n",
    "plt.title('Distribution des résidus selon la Tm')"
   ]
  },
  {
   "cell_type": "markdown",
   "id": "55733865",
   "metadata": {},
   "source": [
    "Même si ce modèle sert de base, il ne nous permet pas de voir l'impact de manière visuelle d'une transformation logarithmique sur notre jeu de données. Cependant au niveau des scores, nous voyons que les données loguées donnent de meilleurs résultats. Afin d'observer cela de manière visuelle, nous allons faire la même chose sur le modèle SVR."
   ]
  },
  {
   "cell_type": "markdown",
   "id": "81d714d8",
   "metadata": {},
   "source": [
    "## SVR"
   ]
  },
  {
   "cell_type": "markdown",
   "id": "6cd08bcf",
   "metadata": {},
   "source": [
    "### Avec notre cible loguées"
   ]
  },
  {
   "cell_type": "code",
   "execution_count": null,
   "id": "64b2dfc6",
   "metadata": {},
   "outputs": [],
   "source": [
    "from sklearn.svm import SVR\n",
    "Svr = SVR()\n",
    "modele=Svr.fit(xtrain_log, ytrain_log)\n",
    "ypredict_log = modele.predict(xtest_log)"
   ]
  },
  {
   "cell_type": "code",
   "execution_count": null,
   "id": "d02c1c79",
   "metadata": {},
   "outputs": [],
   "source": [
    "# Description R carré\n",
    "print(\"R-squared:\", np.round(r2_score(ytest_log, ypredict_log),3))\n",
    "# mesure des erreurs entre des observations appariées exprimant le même phénomène\n",
    "print(\"MAE:\", np.round(mean_absolute_error(ytest_log, ypredict_log),3))\n",
    "# mesure caractérisant la « précision » de cet estimateur\n",
    "print(\"MSE:\", np.round(mean_squared_error(ytest_log, ypredict_log),3))\n",
    "# Mesure qui nous indique l'écart moyen entre les valeurs prédites et les valeurs observées dans un modèle\n",
    "print('RMSE:', np.round(sqrt(mean_squared_error(ytest_log, ypredict_log)),3))"
   ]
  },
  {
   "cell_type": "code",
   "execution_count": null,
   "id": "4fcdb47e",
   "metadata": {},
   "outputs": [],
   "source": [
    "# Pour avoir une visualisation de l'ajustement du modèle et de la prédiction en fonction des valeurs de test\n",
    "sns.regplot(x=ypredict_log,y=ytest_log)\n",
    "# Pour avoir la ligne des données des valeurs de test à comparer\n",
    "plt.plot(ytest_log,ytest_log)\n",
    "plt.xlabel(\"Tm - Prediction (blue)\")\n",
    "plt.ylabel(\"Tm - Prediction (orange)\")\n",
    "plt.title('Tm - Prediction vs Test')"
   ]
  },
  {
   "cell_type": "code",
   "execution_count": null,
   "id": "340f617e",
   "metadata": {},
   "outputs": [],
   "source": [
    "# Graphique de répartition des résidus\n",
    "sns.residplot(x=ytest_log,y=ypredict_log)\n",
    "plt.xlabel(\"Tm\")\n",
    "plt.ylabel(\"Residus\")\n",
    "plt.title('Distribution des résidus selon le Tm')"
   ]
  },
  {
   "cell_type": "markdown",
   "id": "9f974a3e",
   "metadata": {},
   "source": [
    "### Avec notre cible non loguée"
   ]
  },
  {
   "cell_type": "code",
   "execution_count": null,
   "id": "179c55e9",
   "metadata": {},
   "outputs": [],
   "source": [
    "modele=Svr.fit(xtrain, ytrain)\n",
    "ypredict = modele.predict(xtest)"
   ]
  },
  {
   "cell_type": "code",
   "execution_count": null,
   "id": "d7dad393",
   "metadata": {},
   "outputs": [],
   "source": [
    "# Description R carré\n",
    "print(\"R-squared:\", np.round(r2_score(ytest, ypredict),3))\n",
    "# mesure des erreurs entre des observations appariées exprimant le même phénomène\n",
    "print(\"MAE:\", np.round(mean_absolute_error(ytest, ypredict),3))\n",
    "# mesure caractérisant la « précision » de cet estimateur\n",
    "print(\"MSE:\", np.round(mean_squared_error(ytest, ypredict),3))\n",
    "# Mesure qui nous indique l'écart moyen entre les valeurs prédites et les valeurs observées dans un modèle\n",
    "print('RMSE:', np.round(sqrt(mean_squared_error(ytest, ypredict)),3))"
   ]
  },
  {
   "cell_type": "code",
   "execution_count": null,
   "id": "d24c47af",
   "metadata": {},
   "outputs": [],
   "source": [
    "# Pour avoir une visualisation de l'ajustement du modèle et de la prédiction en fonction des valeurs de test\n",
    "sns.regplot(x=ypredict,y=ytest)\n",
    "# Pour avoir la ligne des données des valeurs de test à comparer\n",
    "plt.plot(ytest,ytest)\n",
    "plt.xlabel(\"Tm - Prediction (blue)\")\n",
    "plt.ylabel(\"Tm - Prediction (orange)\")\n",
    "plt.title('Tm - Prediction vs Test')"
   ]
  },
  {
   "cell_type": "code",
   "execution_count": null,
   "id": "ed483a79",
   "metadata": {},
   "outputs": [],
   "source": [
    "# Graphique de répartition des résidus\n",
    "sns.residplot(x=ytest,y=ypredict)\n",
    "plt.xlabel(\"Tm\")\n",
    "plt.ylabel(\"Residus\")\n",
    "plt.title('Distribution des résidus selon le Tm')"
   ]
  },
  {
   "cell_type": "markdown",
   "id": "9ee00609",
   "metadata": {},
   "source": [
    "On voit ainsi, que l'utilisation de la transformation logarithmique, nous donne de meilleur résultats visuel et mathématiques. Nous allons donc continuer avec notre cible loguée."
   ]
  },
  {
   "cell_type": "code",
   "execution_count": null,
   "id": "3a4b3c56",
   "metadata": {},
   "outputs": [],
   "source": []
  }
 ],
 "metadata": {
  "kernelspec": {
   "display_name": "Python 3 (ipykernel)",
   "language": "python",
   "name": "python3"
  },
  "language_info": {
   "codemirror_mode": {
    "name": "ipython",
    "version": 3
   },
   "file_extension": ".py",
   "mimetype": "text/x-python",
   "name": "python",
   "nbconvert_exporter": "python",
   "pygments_lexer": "ipython3",
   "version": "3.9.7"
  }
 },
 "nbformat": 4,
 "nbformat_minor": 5
}
