{
 "cells": [
  {
   "cell_type": "markdown",
   "id": "bf09348c",
   "metadata": {
    "id": "bf09348c"
   },
   "source": [
    "# Feature Engineering"
   ]
  },
  {
   "cell_type": "markdown",
   "id": "a93ecd00",
   "metadata": {
    "id": "a93ecd00"
   },
   "source": [
    "## Longueur de la séquence"
   ]
  },
  {
   "cell_type": "code",
   "execution_count": null,
   "id": "29fd604b",
   "metadata": {},
   "outputs": [],
   "source": [
    "train_enz['len_sequence']=train_enz['protein_sequence'].apply(lambda x: len(x))\n",
    "test_enz['len_sequence']=test_enz['protein_sequence'].apply(lambda x: len(x))"
   ]
  },
  {
   "cell_type": "markdown",
   "id": "d51a25e7",
   "metadata": {},
   "source": [
    "## Liste des acides aminés"
   ]
  },
  {
   "cell_type": "code",
   "execution_count": null,
   "id": "5ddc3dc3",
   "metadata": {},
   "outputs": [],
   "source": [
    "AA=['P','T','W','A','C','D','L','K','H','V','R','F','Q','G','S','I','M','E','N','Y']"
   ]
  },
  {
   "cell_type": "markdown",
   "id": "36f91c69",
   "metadata": {},
   "source": [
    "## Comptage des acides aminés dans chaque séquence"
   ]
  },
  {
   "cell_type": "markdown",
   "id": "be2387dd",
   "metadata": {},
   "source": [
    "Inspiré du kernel 'Enzyme Stability Prediction' de MAHDEE MUSHFIQUE KAMAL mettre le lien.\n",
    "[google](https://www.kaggle.com/code/mahdeemushfiquekamal/enzyme-stability-prediction)"
   ]
  },
  {
   "cell_type": "code",
   "execution_count": null,
   "id": "37d2c264",
   "metadata": {},
   "outputs": [],
   "source": [
    "for i in AA: \n",
    "    nom_colonne = str ('nb_'+i)\n",
    "    train_enz[nom_colonne] = train_enz['protein_sequence'].apply(lambda x: x.count(i))\n",
    "    test_enz[nom_colonne] = test_enz['protein_sequence'].apply(lambda x: x.count(i))"
   ]
  },
  {
   "cell_type": "code",
   "execution_count": null,
   "id": "ed9d0bf2",
   "metadata": {},
   "outputs": [],
   "source": [
    "train_enz"
   ]
  },
  {
   "cell_type": "code",
   "execution_count": null,
   "id": "fc1dc1c2",
   "metadata": {},
   "outputs": [],
   "source": [
    "test_enz"
   ]
  },
  {
   "cell_type": "markdown",
   "id": "eca03cdb",
   "metadata": {},
   "source": [
    "# Analyse"
   ]
  },
  {
   "cell_type": "markdown",
   "id": "fb2960f1",
   "metadata": {},
   "source": [
    "## Observation des lettres selon des tm particulières"
   ]
  },
  {
   "cell_type": "markdown",
   "id": "7f58c5c1",
   "metadata": {},
   "source": [
    "Observons le describe de la colonne tm afin de se rappeler qu'elles sont les valeurs minimale et maximale."
   ]
  },
  {
   "cell_type": "code",
   "execution_count": null,
   "id": "25b0ec48",
   "metadata": {},
   "outputs": [],
   "source": [
    "train_enz['tm'].describe()"
   ]
  },
  {
   "cell_type": "markdown",
   "id": "ea0054ae",
   "metadata": {},
   "source": [
    "On voit ainsi que la valeur min est de 25 et la valeur max est de 111.8°c, observons maintenant qu'elle est la tm la plus présente dans notre jeu de données."
   ]
  },
  {
   "cell_type": "code",
   "execution_count": null,
   "id": "811bcb9c",
   "metadata": {},
   "outputs": [],
   "source": [
    "print(train_enz['tm'].value_counts())"
   ]
  },
  {
   "cell_type": "markdown",
   "id": "3209a623",
   "metadata": {},
   "source": [
    "On voit ainsi, que la tm la plus présente est de 25°C, nous ferons donc un graphique afin de montrer le nombre moyen de telle ou telle lettre pour une tm de 25, et un graphique de même type pour la valeur maximale qui est de 111.8°C."
   ]
  },
  {
   "cell_type": "code",
   "execution_count": null,
   "id": "1fd314ae",
   "metadata": {},
   "outputs": [],
   "source": [
    "tm_25=train_enz.copy()\n",
    "tm_25=tm_25.loc[tm_25['tm']==25]\n",
    "\n",
    "def createList(n):\n",
    "    lst = []\n",
    "    for i in range(n):\n",
    "        lst.append(i)\n",
    "    return(lst)\n",
    "\n",
    "liste_index=createList(len(tm_25))\n",
    "\n",
    "tm_25.index = liste_index\n",
    "\n",
    "for i in AA: \n",
    "    nom_colonne = str ('nb_'+i)\n",
    "    #percent_colonne=str ('%'+i)\n",
    "    for j in range(0,len(tm_25)):\n",
    "        tm_25.at[j,nom_colonne]=round(((tm_25.at[j,nom_colonne]/tm_25.at[j,'len_sequence'])*100),2)\n",
    "tm_25"
   ]
  },
  {
   "cell_type": "code",
   "execution_count": null,
   "id": "85d57a20",
   "metadata": {},
   "outputs": [],
   "source": [
    "tm_max=train_enz.copy()\n",
    "tm_max=tm_max.loc[tm_max['tm']==111.8]\n",
    "\n",
    "liste_index=createList(len(tm_max))\n",
    "\n",
    "tm_max.index = liste_index\n",
    "\n",
    "for i in AA: \n",
    "    nom_colonne = str ('nb_'+i)\n",
    "    #percent_colonne=str ('%'+i)\n",
    "    for j in range(0,len(tm_max)):\n",
    "        tm_max.at[j,nom_colonne]=round(((tm_max.at[j,nom_colonne]/tm_max.at[j,'len_sequence'])*100),2)\n",
    "\n",
    "tm_max"
   ]
  },
  {
   "cell_type": "code",
   "execution_count": null,
   "id": "4621bbb4",
   "metadata": {},
   "outputs": [],
   "source": [
    "letters=['nb_P','nb_T','nb_W','nb_A','nb_C','nb_D','nb_L','nb_K','nb_H','nb_V','nb_R','nb_F','nb_Q','nb_G','nb_S','nb_I','nb_M','nb_E','nb_N','nb_Y']\n",
    "letters_tm=pd.DataFrame(columns=['letters','mean_25','mean_max'])\n",
    "letters_tm['letters']=letters\n",
    "mean_25=[]\n",
    "mean_max=[]\n",
    "for i in letters : \n",
    "    m=tm_25[i].mean()\n",
    "    mean_25.append(m)\n",
    "    o=tm_max[i].mean()\n",
    "    mean_max.append(o)\n",
    "letters_tm['mean_25']=mean_25\n",
    "letters_tm['mean_max']=mean_max\n",
    "letters_tm"
   ]
  },
  {
   "cell_type": "code",
   "execution_count": null,
   "id": "b526e0db",
   "metadata": {},
   "outputs": [],
   "source": [
    "letters = letters_tm['letters']\n",
    "tm_25 = letters_tm['mean_25']\n",
    "tm_111 = letters_tm['mean_max']\n",
    "X_axis = np.arange(len(letters))\n",
    "  \n",
    "plt.bar(X_axis - 0.2, tm_25, 0.4, label = 'tm_25')\n",
    "plt.bar(X_axis + 0.2, tm_111, 0.4, label = 'tm_111')\n",
    "  \n",
    "plt.xticks(X_axis, letters)\n",
    "plt.xlabel(\"Acide Aminés\")\n",
    "plt.ylabel(\"Nombre d'acide aminés dans la séquence\")\n",
    "plt.title(\"Nombre d'acide aminés dans la séquence selon la tm\")\n",
    "plt.legend()\n",
    "plt.show()"
   ]
  },
  {
   "cell_type": "markdown",
   "id": "97470477",
   "metadata": {},
   "source": [
    "On voit ainsi, que pour certains acide aminés, on a tendance, à voir une augmentation du pourcentage de la présence de ces derniers, pour les séquences avec une tm importante. Notamment l’Acide Aspartique (D), la Proline (P), la Cystéine (C) ou encore la Gmycine (G). Cependant, à l’inverse, certains acides aminés disparaissent, telle que l’Histidine (H), l’Alanine (A), l’Arginine (R) et la Sérine (S). Certains acides aminés jouent alors peut être un rôle dans les résultats que nous obtiendront. Mais avant cela, observons les corrélations entre nos variables numériques."
   ]
  },
  {
   "cell_type": "markdown",
   "id": "a43fc67a",
   "metadata": {},
   "source": [
    "## Corrélation entre nos features quantitatives"
   ]
  },
  {
   "cell_type": "code",
   "execution_count": null,
   "id": "e0e3a8e6",
   "metadata": {},
   "outputs": [],
   "source": [
    "plt.rcParams['figure.figsize']=(30,15)\n",
    "sns.heatmap(train_enz.corr(), vmin = -1, vmax = +1, cmap='coolwarm', annot=True)"
   ]
  },
  {
   "cell_type": "markdown",
   "id": "a7d6cd9c",
   "metadata": {},
   "source": [
    "On voit ici, que les features liées à la longeur de la séquence et aux nombres des différents acides aminés, sont très corrélées entre elles. Les corrélations avec les différentes features et pH/tm sont plus faible, En effet, pour la tm nous avons une corrélation maximale de -0.13, obtenu avec les acides aminés Asparagine (N), Glutamine (Q) et Cystéine (C). Pour le Ph nous avons une corrélation maximale de 0.11 avec l’Histidine (H). Nous pouvons dire ici au vu des corrélations entre la tm et les autres features que nous éviterons le dataleakage."
   ]
  },
  {
   "cell_type": "code",
   "execution_count": null,
   "id": "e356aacd",
   "metadata": {},
   "outputs": [],
   "source": []
  }
 ],
 "metadata": {
  "kernelspec": {
   "display_name": "Python 3 (ipykernel)",
   "language": "python",
   "name": "python3"
  },
  "language_info": {
   "codemirror_mode": {
    "name": "ipython",
    "version": 3
   },
   "file_extension": ".py",
   "mimetype": "text/x-python",
   "name": "python",
   "nbconvert_exporter": "python",
   "pygments_lexer": "ipython3",
   "version": "3.9.7"
  }
 },
 "nbformat": 4,
 "nbformat_minor": 5
}
