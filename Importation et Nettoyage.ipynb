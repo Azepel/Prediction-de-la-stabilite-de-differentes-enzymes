{
 "cells": [
  {
   "cell_type": "markdown",
   "id": "bca4bd5a",
   "metadata": {},
   "source": [
    "# Importation du fichier initial"
   ]
  },
  {
   "cell_type": "code",
   "execution_count": null,
   "id": "b441d0cd",
   "metadata": {},
   "outputs": [],
   "source": [
    "import numpy as np\n",
    "import pandas as pd\n",
    "import csv\n",
    "import pickle\n",
    "\n",
    "train_enz = pd.read_csv(r'C:\\Users\\leper\\OneDrive\\Documents\\Cours et projet OC\\Projet 8\\train.csv', encoding ='utf8')\n",
    "train_enz"
   ]
  },
  {
   "cell_type": "code",
   "execution_count": null,
   "id": "a272bc72",
   "metadata": {},
   "outputs": [],
   "source": [
    "train_enz.info()"
   ]
  },
  {
   "cell_type": "markdown",
   "id": "5b973960",
   "metadata": {},
   "source": [
    "On peut ici voir, que nous avons 5 colonnes. L'une d'elle, data_source, ne nous sera pas d'utilité pour ce projet, nous pouvons donc la supprimer."
   ]
  },
  {
   "cell_type": "code",
   "execution_count": null,
   "id": "e3200e13",
   "metadata": {},
   "outputs": [],
   "source": [
    "train_enz=train_enz.drop(['data_source'],axis=1)"
   ]
  },
  {
   "cell_type": "markdown",
   "id": "d9de0f96",
   "metadata": {},
   "source": [
    "# Importation du fichier contenant les lignes modifiées"
   ]
  },
  {
   "cell_type": "code",
   "execution_count": null,
   "id": "0b3b57ae",
   "metadata": {},
   "outputs": [],
   "source": [
    "train_enz_2 = pd.read_csv(r'C:\\Users\\leper\\OneDrive\\Documents\\Cours et projet OC\\Projet 8\\train_updates_20220929.csv', encoding ='utf8')\n",
    "train_enz_2"
   ]
  },
  {
   "cell_type": "code",
   "execution_count": null,
   "id": "679e0cbc",
   "metadata": {},
   "outputs": [],
   "source": [
    "train_enz_2.info()"
   ]
  },
  {
   "cell_type": "markdown",
   "id": "a01cb8da",
   "metadata": {},
   "source": [
    "# Remplacement des données modifiées dans le premier dataset"
   ]
  },
  {
   "cell_type": "code",
   "execution_count": null,
   "id": "f44317ed",
   "metadata": {},
   "outputs": [],
   "source": [
    "train_enz_modif=train_enz_2.loc[(train_enz_2['protein_sequence'].notna())|(train_enz_2['pH'].notna())|(train_enz_2['tm'].notna())]"
   ]
  },
  {
   "cell_type": "code",
   "execution_count": null,
   "id": "85c8e73a",
   "metadata": {},
   "outputs": [],
   "source": [
    "train_enz_modif"
   ]
  },
  {
   "cell_type": "markdown",
   "id": "0670b942",
   "metadata": {},
   "source": [
    "Transformons la colonne seq id en index"
   ]
  },
  {
   "cell_type": "code",
   "execution_count": null,
   "id": "ea76a99c",
   "metadata": {},
   "outputs": [],
   "source": [
    "train_enz_modif.set_index('seq_id',inplace=True)"
   ]
  },
  {
   "cell_type": "code",
   "execution_count": null,
   "id": "ee114c74",
   "metadata": {},
   "outputs": [],
   "source": [
    "list_modif=train_enz_modif.index.tolist()"
   ]
  },
  {
   "cell_type": "code",
   "execution_count": null,
   "id": "1c9d3e01",
   "metadata": {},
   "outputs": [],
   "source": [
    "for i in list_modif:\n",
    "    train_enz.at[i,'protein_sequence']=train_enz_modif.at[i,'protein_sequence']\n",
    "    train_enz.at[i,'pH']=train_enz_modif.at[i,'pH']\n",
    "    train_enz.at[i,'tm']=train_enz_modif.at[i,'tm']"
   ]
  },
  {
   "cell_type": "markdown",
   "id": "c3e83fa1",
   "metadata": {},
   "source": [
    "# Observation des doublons"
   ]
  },
  {
   "cell_type": "code",
   "execution_count": null,
   "id": "0112c850",
   "metadata": {},
   "outputs": [],
   "source": [
    "train_enz.loc[train_enz[['protein_sequence','pH']].duplicated(keep=False),:]"
   ]
  },
  {
   "cell_type": "code",
   "execution_count": null,
   "id": "af60bae4",
   "metadata": {},
   "outputs": [],
   "source": [
    "Nous voyons ici qu'il y a plusieurs doublons, cependant, il faut prendre en compte que ces proteines ont également pu être testé dans des dilutions diverses ce qui entraine cette différence de tm entre proteine de même séquence testées au même pH."
   ]
  },
  {
   "cell_type": "markdown",
   "id": "cf583caf",
   "metadata": {},
   "source": [
    "# Observation des valeurs abberantes "
   ]
  },
  {
   "cell_type": "markdown",
   "id": "af61d695",
   "metadata": {},
   "source": [
    "## Colonne protein sequence"
   ]
  },
  {
   "cell_type": "code",
   "execution_count": 1,
   "id": "7614973b",
   "metadata": {},
   "outputs": [
    {
     "ename": "NameError",
     "evalue": "name 'train_enz' is not defined",
     "output_type": "error",
     "traceback": [
      "\u001b[1;31m---------------------------------------------------------------------------\u001b[0m",
      "\u001b[1;31mNameError\u001b[0m                                 Traceback (most recent call last)",
      "\u001b[1;32m~\\AppData\\Local\\Temp/ipykernel_21128/2687832660.py\u001b[0m in \u001b[0;36m<module>\u001b[1;34m\u001b[0m\n\u001b[1;32m----> 1\u001b[1;33m \u001b[0mtrain_enz\u001b[0m\u001b[1;33m[\u001b[0m\u001b[1;34m'protein_sequence'\u001b[0m\u001b[1;33m]\u001b[0m\u001b[1;33m.\u001b[0m\u001b[0mdescribe\u001b[0m\u001b[1;33m(\u001b[0m\u001b[1;33m)\u001b[0m\u001b[1;33m\u001b[0m\u001b[1;33m\u001b[0m\u001b[0m\n\u001b[0m",
      "\u001b[1;31mNameError\u001b[0m: name 'train_enz' is not defined"
     ]
    }
   ],
   "source": [
    "train_enz['protein_sequence'].describe()"
   ]
  },
  {
   "cell_type": "markdown",
   "id": "95778c32",
   "metadata": {},
   "source": [
    "On voit ainsi, que nous avons 28981 séquences protéiniques différentes, dont une qui a été testée 14 fois."
   ]
  },
  {
   "cell_type": "markdown",
   "id": "2595ba71",
   "metadata": {},
   "source": [
    "## Colonne pH"
   ]
  },
  {
   "cell_type": "code",
   "execution_count": null,
   "id": "cd60091a",
   "metadata": {},
   "outputs": [],
   "source": [
    "train_enz['pH'].describe()"
   ]
  },
  {
   "cell_type": "markdown",
   "id": "9215e268",
   "metadata": {},
   "source": [
    "On voit ici, que le nombre min est de 1.99 et le max est de 53.4. Hors on sait qu'un pH varie entre 0 et 14. Observons les valeurs au dessus de 14 de plus près."
   ]
  },
  {
   "cell_type": "code",
   "execution_count": null,
   "id": "d06be58a",
   "metadata": {},
   "outputs": [],
   "source": [
    "train_enz.loc[train_enz['pH']>14]"
   ]
  },
  {
   "cell_type": "markdown",
   "id": "3de453b6",
   "metadata": {},
   "source": [
    "Remplaçons ces valeurs par des valeurs nulles."
   ]
  },
  {
   "cell_type": "code",
   "execution_count": null,
   "id": "55c73a35",
   "metadata": {},
   "outputs": [],
   "source": [
    "ph_abb=train_enz.loc[train_enz['pH']>14].index.tolist()\n",
    "for i in ph_abb:\n",
    "    train_enz.at[i,'pH']=np.nan\n",
    "train_enz.loc[train_enz['pH']>14]   "
   ]
  },
  {
   "cell_type": "markdown",
   "id": "1bb7d86d",
   "metadata": {},
   "source": [
    "## Colonne Température de fusion"
   ]
  },
  {
   "cell_type": "code",
   "execution_count": null,
   "id": "577b3bae",
   "metadata": {},
   "outputs": [],
   "source": [
    "train_enz['tm'].describe()"
   ]
  },
  {
   "cell_type": "markdown",
   "id": "05504160",
   "metadata": {},
   "source": [
    "On voit ainsi, que la valeur minimale est de -1 et la valeur maximale est de 130. Hors lors de nos recherches, nous avons trouvé que les valeurs de tm variait entre 25 et 113 °C."
   ]
  },
  {
   "cell_type": "code",
   "execution_count": null,
   "id": "f7d65393",
   "metadata": {},
   "outputs": [],
   "source": [
    "train_enz.loc[(train_enz['tm']>113)|(train_enz['tm']<25)]"
   ]
  },
  {
   "cell_type": "markdown",
   "id": "ed71ecd4",
   "metadata": {},
   "source": [
    "# Valeurs manquantes"
   ]
  },
  {
   "cell_type": "code",
   "execution_count": null,
   "id": "a1c21d19",
   "metadata": {},
   "outputs": [],
   "source": [
    "listetaux=[]\n",
    "for i in train_enz.columns:\n",
    "    nb_null = train_enz[i].isnull().sum()\n",
    "    nb_lignetot = len(train_enz[i])\n",
    "    taux_remplissage = ((nb_lignetot-nb_null)/nb_lignetot)*100\n",
    "    listetaux.append([i,taux_remplissage])\n",
    "\n",
    "listetaux.sort(key=lambda x:x[1], reverse=True)\n",
    "\n",
    "for i,taux_remplissage in listetaux :\n",
    "    print(\"{:<40} -> {}%\".format(i,round(taux_remplissage,2)))"
   ]
  },
  {
   "cell_type": "code",
   "execution_count": null,
   "id": "be63f8de",
   "metadata": {},
   "outputs": [],
   "source": [
    "Contient_na=train_enz.loc[(train_enz['pH']==np.nan)|(train_enz['pH'].isna())|(train_enz['tm']==np.nan)|(train_enz['tm'].isna())]\n",
    "(len(Contient_na)/len(train_enz))*100"
   ]
  },
  {
   "cell_type": "markdown",
   "id": "1288a088",
   "metadata": {},
   "source": [
    "Etant donné que moins de 4 pourcents des données sont manquantes, nous pouvons supprimer les lignes en question."
   ]
  },
  {
   "cell_type": "code",
   "execution_count": null,
   "id": "92314c28",
   "metadata": {},
   "outputs": [],
   "source": [
    "liste_lignes_Na=Contient_na.index\n",
    "train_enz=train_enz.drop(liste_lignes_Na)"
   ]
  },
  {
   "cell_type": "code",
   "execution_count": null,
   "id": "62aaddf4",
   "metadata": {},
   "outputs": [],
   "source": [
    "listetaux=[]\n",
    "for i in train_enz.columns:\n",
    "    nb_null = train_enz[i].isnull().sum()\n",
    "    nb_lignetot = len(train_enz[i])\n",
    "    taux_remplissage = ((nb_lignetot-nb_null)/nb_lignetot)*100\n",
    "    listetaux.append([i,taux_remplissage])\n",
    "\n",
    "listetaux.sort(key=lambda x:x[1], reverse=True)\n",
    "\n",
    "for i,taux_remplissage in listetaux :\n",
    "    print(\"{:<40} -> {}%\".format(i,round(taux_remplissage,2)))"
   ]
  },
  {
   "cell_type": "markdown",
   "id": "13b7325b",
   "metadata": {},
   "source": [
    "Notre Dataset de training est donc désormais nettoyé. Passons désormais au nettoyage de notre dataset de test."
   ]
  },
  {
   "cell_type": "markdown",
   "id": "66c88fda",
   "metadata": {},
   "source": [
    "# Importation du fichier test"
   ]
  },
  {
   "cell_type": "code",
   "execution_count": null,
   "id": "a534a555",
   "metadata": {},
   "outputs": [],
   "source": [
    "test_enz = pd.read_csv(r'C:\\Users\\leper\\OneDrive\\Documents\\Cours et projet OC\\Projet 8\\test.csv', encoding ='utf8')"
   ]
  },
  {
   "cell_type": "code",
   "execution_count": null,
   "id": "15012e10",
   "metadata": {},
   "outputs": [],
   "source": [
    "test_enz.info()"
   ]
  },
  {
   "cell_type": "markdown",
   "id": "c6b007bd",
   "metadata": {},
   "source": [
    "Nous allons supprimer la colonne data_source de ce fichier."
   ]
  },
  {
   "cell_type": "code",
   "execution_count": null,
   "id": "e1d02ef5",
   "metadata": {},
   "outputs": [],
   "source": [
    "test_enz=test_enz.drop(['data_source'],axis=1)"
   ]
  },
  {
   "cell_type": "markdown",
   "id": "5f96d472",
   "metadata": {},
   "source": [
    "## Colonne pH"
   ]
  },
  {
   "cell_type": "code",
   "execution_count": null,
   "id": "330643d5",
   "metadata": {},
   "outputs": [],
   "source": [
    "test_enz['pH'].describe()"
   ]
  },
  {
   "cell_type": "markdown",
   "id": "d92a44e7",
   "metadata": {},
   "source": [
    "Ici, il ne semble pas y avoir de valeur aberrante. Nous allons observer si il y a des valeurs manquantes."
   ]
  },
  {
   "cell_type": "code",
   "execution_count": null,
   "id": "4b84c7fb",
   "metadata": {},
   "outputs": [],
   "source": [
    "listetaux=[]\n",
    "for i in test_enz.columns:\n",
    "    nb_null = test_enz[i].isnull().sum()\n",
    "    nb_lignetot = len(test_enz[i])\n",
    "    taux_remplissage = ((nb_lignetot-nb_null)/nb_lignetot)*100\n",
    "    listetaux.append([i,taux_remplissage])\n",
    "\n",
    "listetaux.sort(key=lambda x:x[1], reverse=True)\n",
    "\n",
    "for i,taux_remplissage in listetaux :\n",
    "    print(\"{:<40} -> {}%\".format(i,round(taux_remplissage,2)))"
   ]
  },
  {
   "cell_type": "markdown",
   "id": "1a3f1fec",
   "metadata": {},
   "source": [
    "Il n'y a pas de valeurs manquantes ici. Nous allons donc pouvoir passer à la suite."
   ]
  },
  {
   "cell_type": "code",
   "execution_count": null,
   "id": "4c7f0611",
   "metadata": {},
   "outputs": [],
   "source": []
  }
 ],
 "metadata": {
  "kernelspec": {
   "display_name": "Python 3 (ipykernel)",
   "language": "python",
   "name": "python3"
  },
  "language_info": {
   "codemirror_mode": {
    "name": "ipython",
    "version": 3
   },
   "file_extension": ".py",
   "mimetype": "text/x-python",
   "name": "python",
   "nbconvert_exporter": "python",
   "pygments_lexer": "ipython3",
   "version": "3.9.12"
  }
 },
 "nbformat": 4,
 "nbformat_minor": 5
}
