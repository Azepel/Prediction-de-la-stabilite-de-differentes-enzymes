{
 "cells": [
  {
   "cell_type": "markdown",
   "id": "80ce8a20",
   "metadata": {},
   "source": [
    "# Validation croisée "
   ]
  },
  {
   "cell_type": "markdown",
   "id": "3378a83b",
   "metadata": {},
   "source": [
    "## Listing des différents modèles"
   ]
  },
  {
   "cell_type": "markdown",
   "id": "8efc76b5",
   "metadata": {},
   "source": [
    "Dummy Regressor https://scikit-learn.org/stable/modules/generated/sklearn.dummy.DummyRegressor.html\n",
    "\n",
    "<br>Linear Regressor https://scikit-learn.org/stable/modules/generated/sklearn.linear_model.LinearRegression.html\n",
    "\n",
    "<br>K neighbors Regressor https://scikit-learn.org/stable/modules/generated/sklearn.neighbors.KNeighborsRegressor.html#sklearn.neighbors.KNeighborsRegressor\n",
    "\n",
    "<br>Ridge Regression https://scikit-learn.org/stable/modules/generated/sklearn.linear_model.Ridge.html#sklearn.linear_model.Ridge\n",
    "\n",
    "<br>Lasso Regression https://scikit-learn.org/stable/modules/generated/sklearn.linear_model.Lasso.html#sklearn.linear_model.Lassodocumentation\n",
    "\n",
    "<br>Elastic net https://scikit-learn.org/stable/modules/generated/sklearn.linear_model.ElasticNet.html#sklearn.linear_model.ElasticNet\n",
    "\n",
    "<br>SVR https://scikit-learn.org/stable/modules/svm.html#svm-regression\n",
    "\n",
    "<br>Random Forest Regressor https://scikit-learn.org/stable/modules/generated/sklearn.ensemble.RandomForestRegressor.html#sklearn.ensemble.RandomForestRegressor\n",
    "\n",
    "<br>Gradient Boosting Regressor https://scikit-learn.org/stable/modules/generated/sklearn.ensemble.GradientBoostingRegressor.html#sklearn.ensemble.GradientBoostingRegressor"
   ]
  },
  {
   "cell_type": "code",
   "execution_count": null,
   "id": "2a63e8f3",
   "metadata": {},
   "outputs": [],
   "source": [
    "from sklearn import linear_model\n",
    "from sklearn.linear_model import LinearRegression\n",
    "from sklearn.linear_model import Ridge\n",
    "from sklearn.ensemble import GradientBoostingRegressor\n",
    "from sklearn.ensemble import RandomForestRegressor\n",
    "from sklearn.linear_model import ElasticNet\n",
    "from sklearn.neighbors import KNeighborsRegressor\n",
    "\n",
    "Linear = LinearRegression(n_jobs=1)\n",
    "Lasso = linear_model.Lasso(random_state=21)\n",
    "Ridge = Ridge(random_state=21)\n",
    "Gradient_Boosting_Regressor=GradientBoostingRegressor(random_state=21)\n",
    "Random_Forest_Regressor=RandomForestRegressor(random_state=21)\n",
    "Elastic=ElasticNet(random_state=21)\n",
    "KNNR=KNeighborsRegressor(n_jobs=1)\n",
    "\n",
    "\n",
    "list_model=[Dummy, Linear, KNNR, Ridge, Lasso, Elastic, Svr, Random_Forest_Regressor, Gradient_Boosting_Regressor]"
   ]
  },
  {
   "cell_type": "markdown",
   "id": "08696b9e",
   "metadata": {},
   "source": [
    "## Mise en place de k-folds"
   ]
  },
  {
   "cell_type": "code",
   "execution_count": null,
   "id": "e6c0344b",
   "metadata": {},
   "outputs": [],
   "source": [
    "from sklearn.model_selection import KFold\n",
    "from sklearn.model_selection import cross_val_score"
   ]
  },
  {
   "cell_type": "code",
   "execution_count": null,
   "id": "fd54b7c3",
   "metadata": {},
   "outputs": [],
   "source": [
    "cv = KFold(n_splits=5)"
   ]
  },
  {
   "cell_type": "markdown",
   "id": "e29c852f",
   "metadata": {},
   "source": [
    "## Création de Dataframes"
   ]
  },
  {
   "cell_type": "markdown",
   "id": "ac62bad8",
   "metadata": {},
   "source": [
    "### Création d'un dataframe qui va stocker les résultats moyen de la cross validation des différents modèles"
   ]
  },
  {
   "cell_type": "code",
   "execution_count": null,
   "id": "ca4db74a",
   "metadata": {},
   "outputs": [],
   "source": [
    "Cross_validation=pd.DataFrame(columns=['Modèle','R²_train','R²_test','MAE_train','MAE_test','MSE_train','MSE_test','RMSE_train','RMSE_test'])"
   ]
  },
  {
   "cell_type": "code",
   "execution_count": null,
   "id": "2229d678",
   "metadata": {},
   "outputs": [],
   "source": [
    "Cross_validation['Modèle']=list_model"
   ]
  },
  {
   "cell_type": "code",
   "execution_count": null,
   "id": "d234c6be",
   "metadata": {},
   "outputs": [],
   "source": [
    "Cross_validation"
   ]
  },
  {
   "cell_type": "markdown",
   "id": "78376631",
   "metadata": {},
   "source": [
    "### Création de Dataframes qui vont stocker les valeurs des différents folds de nos différents modèles"
   ]
  },
  {
   "cell_type": "code",
   "execution_count": null,
   "id": "ee780f92",
   "metadata": {},
   "outputs": [],
   "source": [
    "vs_R2=pd.DataFrame(columns=['Folds'])\n",
    "vs_MAE=pd.DataFrame(columns=['Folds'])\n",
    "vs_MSE=pd.DataFrame(columns=['Folds'])\n",
    "vs_RMSE=pd.DataFrame(columns=['Folds'])"
   ]
  },
  {
   "cell_type": "code",
   "execution_count": null,
   "id": "40e37df7",
   "metadata": {},
   "outputs": [],
   "source": [
    "vs_R2['Folds']=['R2_Fold1','R2_Fold2','R2_Fold3','R2_Fold4','R2_Fold5']\n",
    "vs_MAE['Folds']=['MAE_Fold1','MAE_Fold2','MAE_Fold3','MAE_Fold4','MAE_Fold5']\n",
    "vs_MSE['Folds']=['MSE_Fold1','MSE_Fold2','MSE_Fold3','MSE_Fold4','MSE_Fold5']\n",
    "vs_RMSE['Folds']=['RMSE_Fold1','RMSE_Fold2','RMSE_Fold3','RMSE_Fold4','RMSE_Fold5']"
   ]
  },
  {
   "cell_type": "code",
   "execution_count": null,
   "id": "27e6c292",
   "metadata": {},
   "outputs": [],
   "source": [
    "for i in list_model:\n",
    "    modele =i\n",
    "    r2=np.round(cross_val_score(modele, xtrain_log, ytrain_log, scoring = 'r2', cv=cv),4)\n",
    "    mae=-np.round(cross_val_score(modele, xtrain_log, ytrain_log, scoring = 'neg_mean_absolute_error', cv=cv),4)\n",
    "    mse=-np.round(cross_val_score(modele, xtrain_log, ytrain_log, scoring = 'neg_mean_squared_error', cv=cv),4)\n",
    "    rmse=-np.round(cross_val_score(modele, xtrain_log, ytrain_log, scoring = 'neg_root_mean_squared_error', cv=cv),4)\n",
    "    vs_R2[i]=r2\n",
    "    vs_MAE[i]=mae\n",
    "    vs_MSE[i]=mse\n",
    "    vs_RMSE[i]=rmse"
   ]
  },
  {
   "cell_type": "code",
   "execution_count": null,
   "id": "97424d86",
   "metadata": {},
   "outputs": [],
   "source": [
    "vs_R2"
   ]
  },
  {
   "cell_type": "markdown",
   "id": "b4670178",
   "metadata": {},
   "source": [
    "### Mise en place de la ligne de la moyenne dans les dataframes des différents test"
   ]
  },
  {
   "cell_type": "code",
   "execution_count": null,
   "id": "6338a929",
   "metadata": {},
   "outputs": [],
   "source": [
    "vs_R2.at[5,'Folds']='Average'\n",
    "list_R2=[]\n",
    "for i in vs_R2.columns[1:]:\n",
    "    vs_R2.at[5,i]=vs_R2[i].mean()\n",
    "    list_R2.append(vs_R2.at[5,i])\n",
    "    \n",
    "vs_MAE.at[5,'Folds']='Average'\n",
    "list_MAE=[]\n",
    "for i in vs_MAE.columns[1:]:\n",
    "    vs_MAE.at[5,i]=vs_MAE[i].mean()\n",
    "    list_MAE.append(vs_MAE.at[5,i])\n",
    "    \n",
    "vs_MSE.at[5,'Folds']='Average'\n",
    "list_MSE=[]\n",
    "for i in vs_MSE.columns[1:]:\n",
    "    vs_MSE.at[5,i]=vs_MSE[i].mean()\n",
    "    list_MSE.append(vs_MSE.at[5,i])\n",
    "    \n",
    "vs_RMSE.at[5,'Folds']='Average'\n",
    "list_RMSE=[]\n",
    "for i in vs_RMSE.columns[1:]:\n",
    "    vs_RMSE.at[5,i]=vs_RMSE[i].mean()\n",
    "    list_RMSE.append(vs_RMSE.at[5,i])"
   ]
  },
  {
   "cell_type": "code",
   "execution_count": null,
   "id": "935f4628",
   "metadata": {},
   "outputs": [],
   "source": [
    "vs_R2"
   ]
  },
  {
   "cell_type": "markdown",
   "id": "c8cf686d",
   "metadata": {},
   "source": [
    "### Remplissage de notre DataFrame de Cross Validation "
   ]
  },
  {
   "cell_type": "code",
   "execution_count": null,
   "id": "3cdeddc2",
   "metadata": {},
   "outputs": [],
   "source": [
    "Cross_validation['R²_train']=list_R2\n",
    "Cross_validation['MAE_train']=list_MAE\n",
    "Cross_validation['MSE_train']=list_MSE\n",
    "Cross_validation['RMSE_train']=list_RMSE"
   ]
  },
  {
   "cell_type": "code",
   "execution_count": null,
   "id": "272c38d8",
   "metadata": {},
   "outputs": [],
   "source": [
    "Cross_validation"
   ]
  }
 ],
 "metadata": {
  "kernelspec": {
   "display_name": "Python 3 (ipykernel)",
   "language": "python",
   "name": "python3"
  },
  "language_info": {
   "codemirror_mode": {
    "name": "ipython",
    "version": 3
   },
   "file_extension": ".py",
   "mimetype": "text/x-python",
   "name": "python",
   "nbconvert_exporter": "python",
   "pygments_lexer": "ipython3",
   "version": "3.9.7"
  }
 },
 "nbformat": 4,
 "nbformat_minor": 5
}
