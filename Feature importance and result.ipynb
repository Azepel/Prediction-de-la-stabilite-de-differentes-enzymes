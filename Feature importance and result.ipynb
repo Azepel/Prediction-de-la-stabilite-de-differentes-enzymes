{
 "cells": [
  {
   "cell_type": "markdown",
   "id": "5c82c64c",
   "metadata": {},
   "source": [
    "# Feature Importance"
   ]
  },
  {
   "cell_type": "code",
   "execution_count": null,
   "id": "8e071781",
   "metadata": {},
   "outputs": [],
   "source": [
    "import shap"
   ]
  },
  {
   "cell_type": "code",
   "execution_count": null,
   "id": "8353d8f4",
   "metadata": {},
   "outputs": [],
   "source": [
    "explainer = shap.TreeExplainer(modele)"
   ]
  },
  {
   "cell_type": "code",
   "execution_count": null,
   "id": "5fca31fb",
   "metadata": {},
   "outputs": [],
   "source": [
    "shap_values = explainer.shap_values(xtest_log)"
   ]
  },
  {
   "cell_type": "code",
   "execution_count": null,
   "id": "78830a39",
   "metadata": {},
   "outputs": [],
   "source": [
    "shap.summary_plot(shap_values, xtest_log)"
   ]
  },
  {
   "cell_type": "code",
   "execution_count": null,
   "id": "91c36e3e",
   "metadata": {},
   "outputs": [],
   "source": [
    "shap.summary_plot(shap_values, xtest_log, plot_type='bar')"
   ]
  },
  {
   "cell_type": "markdown",
   "id": "b5c5be4e",
   "metadata": {},
   "source": [
    "On voit ici, que la feature qui à le plus d’impact est la feature du nombre de Q (Glutamine) dans la séquence protéinique. On trouve ensuite les S (Sérine), les E (Acide glutamique), les K (Lysine) , les V (Valine) et ensuite et pH. Cependant, contrairement aux acides aminés, le pH, ne semble pas impacter nos résultats de manière croissante ou décroissante, ce dernier s’étalement de manière presque égale des deux côtés de l’axe."
   ]
  },
  {
   "cell_type": "markdown",
   "id": "ed71dccf",
   "metadata": {},
   "source": [
    "# Mise en place du modèle sur notre jeu de données final"
   ]
  },
  {
   "cell_type": "code",
   "execution_count": null,
   "id": "3a1d790a",
   "metadata": {},
   "outputs": [],
   "source": [
    "test_enz"
   ]
  },
  {
   "cell_type": "code",
   "execution_count": null,
   "id": "40301b8b",
   "metadata": {},
   "outputs": [],
   "source": [
    "test_enz_num=test_enz.drop(axis=1, columns=['seq_id','protein_sequence'])\n",
    "test_enz__num_std = pd.DataFrame(Scaler.fit_transform(test_enz_num), columns=test_enz_num.columns)\n",
    "tm_predict=fit.predict(test_enz__num_std)\n",
    "tm_predict"
   ]
  },
  {
   "cell_type": "code",
   "execution_count": null,
   "id": "8ca59a9e",
   "metadata": {},
   "outputs": [],
   "source": [
    "test_enz['tm_log_predict']=tm_predict"
   ]
  },
  {
   "cell_type": "code",
   "execution_count": null,
   "id": "f2c1f42e",
   "metadata": {},
   "outputs": [],
   "source": [
    "test_enz"
   ]
  },
  {
   "cell_type": "code",
   "execution_count": null,
   "id": "670d43bb",
   "metadata": {},
   "outputs": [],
   "source": [
    "import math\n",
    "tm_predict_nl=[]\n",
    "for i in test_enz['tm_log_predict']:\n",
    "    tm_nl=(math.exp(i))-7\n",
    "    tm_predict_nl.append(tm_nl)\n",
    "test_enz['tm_predict']=tm_predict_nl\n",
    "test_enz"
   ]
  },
  {
   "cell_type": "code",
   "execution_count": null,
   "id": "62a21335",
   "metadata": {},
   "outputs": [],
   "source": [
    "sorted_test_enz=test_enz.sort_values(by='tm_predict',ascending = False)"
   ]
  },
  {
   "cell_type": "code",
   "execution_count": null,
   "id": "ccbc6988",
   "metadata": {},
   "outputs": [],
   "source": [
    "final_test_enz=sorted_test_enz.drop(axis=1, columns=['len_sequence','pH','nb_P','nb_T','nb_W','nb_A','nb_C','nb_D','nb_L','nb_K','nb_H','nb_V','nb_R','nb_F','nb_Q','nb_G','nb_S','nb_I','nb_M','nb_E','nb_N','nb_Y','tm_log_predict'])"
   ]
  },
  {
   "cell_type": "code",
   "execution_count": null,
   "id": "be4c3b76",
   "metadata": {},
   "outputs": [],
   "source": [
    "final_test_enz"
   ]
  },
  {
   "cell_type": "code",
   "execution_count": null,
   "id": "306889eb",
   "metadata": {},
   "outputs": [],
   "source": [
    "sub=pd.read_csv(r'C:\\Users\\leper\\OneDrive\\Documents\\Cours et projet OC\\Projet 8\\sample_submission.csv', sep=',',low_memory=False)"
   ]
  },
  {
   "cell_type": "code",
   "execution_count": null,
   "id": "86961f6d",
   "metadata": {},
   "outputs": [],
   "source": [
    "sub['tm']=tm_predict_nl\n",
    "sub['tm_ranked']=sub['tm'].rank(ascending = 0)\n",
    "sub"
   ]
  },
  {
   "cell_type": "code",
   "execution_count": null,
   "id": "c615c8ff",
   "metadata": {},
   "outputs": [],
   "source": [
    "sorted_sub=sub.sort_values(by='tm_ranked',ascending = True)"
   ]
  },
  {
   "cell_type": "code",
   "execution_count": null,
   "id": "bb2cfc09",
   "metadata": {},
   "outputs": [],
   "source": [
    "sorted_sub"
   ]
  },
  {
   "cell_type": "code",
   "execution_count": null,
   "id": "3da62cd6",
   "metadata": {},
   "outputs": [],
   "source": [
    "sub_prediction = sorted_sub.copy()\n",
    "sub_prediction = sub_prediction.drop(axis=1, columns=['tm_ranked'])\n",
    "sub_prediction"
   ]
  },
  {
   "cell_type": "markdown",
   "id": "edc70cd8",
   "metadata": {},
   "source": [
    "# Conclusion"
   ]
  },
  {
   "cell_type": "code",
   "execution_count": null,
   "id": "7936bab8",
   "metadata": {},
   "outputs": [],
   "source": [
    "sub_prediction.to_csv((r'C:\\Users\\leper\\OneDrive\\Documents\\Cours et projet OC\\Projet 8\\Prediciton_tm.csv'),index=False)"
   ]
  }
 ],
 "metadata": {
  "kernelspec": {
   "display_name": "Python 3 (ipykernel)",
   "language": "python",
   "name": "python3"
  },
  "language_info": {
   "codemirror_mode": {
    "name": "ipython",
    "version": 3
   },
   "file_extension": ".py",
   "mimetype": "text/x-python",
   "name": "python",
   "nbconvert_exporter": "python",
   "pygments_lexer": "ipython3",
   "version": "3.9.7"
  }
 },
 "nbformat": 4,
 "nbformat_minor": 5
}
